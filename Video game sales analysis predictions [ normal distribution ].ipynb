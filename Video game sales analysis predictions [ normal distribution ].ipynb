{
 "cells": [
  {
   "cell_type": "markdown",
   "metadata": {},
   "source": [
    "## Q1 (20%)\n",
    "Read video games sales data from vgsales.csv file. This dataset contains a list of video games with sales greater than 100,000 copies. Fields include:\n",
    "* Rank - Ranking of overall sales\n",
    "* Name - The games name\n",
    "* Platform - Platform of the games release (i.e. PC,PS4, etc.)\n",
    "* Year - Year of the game's release\n",
    "* Genre - Genre of the game\n",
    "* Publisher - Publisher of the game\n",
    "* NA_Sales - Sales in North America (in millions)\n",
    "* EU_Sales - Sales in Europe (in millions)\n",
    "* JP_Sales - Sales in Japan (in millions)\n",
    "* Other_Sales - Sales in the rest of the world (in millions)\n",
    "* Global_Sales - Total worldwide sales.\n",
    "\n",
    "**Tasks to do:**\n",
    "1. Using your favorite visualization library build histograms and boxplots for NA_Sales, EU_Sales, JP_Sales, Other_Sales, Global_Sales? \n",
    "2. What is the average sales for each region? \n",
    "3. What is the standard deviation for each region?\n",
    "4. How many outliers (using IQR rule) we have in Global_Sales column?\n",
    "5. What is the difference between mean and median values in Global_Sales column? \n",
    "6. Remove outliers and plot histogram and boxplot again. \n",
    "7. What is the difference between mean and median now?\n",
    "8. In your opinion what happened, why difference between mean and median have changed?\n",
    "\n",
    "*Hint: use pandas to read dataset.*"
   ]
  },
  {
   "cell_type": "code",
   "execution_count": 73,
   "metadata": {},
   "outputs": [
    {
     "data": {
      "text/html": [
       "<div>\n",
       "<style scoped>\n",
       "    .dataframe tbody tr th:only-of-type {\n",
       "        vertical-align: middle;\n",
       "    }\n",
       "\n",
       "    .dataframe tbody tr th {\n",
       "        vertical-align: top;\n",
       "    }\n",
       "\n",
       "    .dataframe thead th {\n",
       "        text-align: right;\n",
       "    }\n",
       "</style>\n",
       "<table border=\"1\" class=\"dataframe\">\n",
       "  <thead>\n",
       "    <tr style=\"text-align: right;\">\n",
       "      <th></th>\n",
       "      <th>Rank</th>\n",
       "      <th>Name</th>\n",
       "      <th>Platform</th>\n",
       "      <th>Year</th>\n",
       "      <th>Genre</th>\n",
       "      <th>Publisher</th>\n",
       "      <th>NA_Sales</th>\n",
       "      <th>EU_Sales</th>\n",
       "      <th>JP_Sales</th>\n",
       "      <th>Other_Sales</th>\n",
       "      <th>Global_Sales</th>\n",
       "    </tr>\n",
       "  </thead>\n",
       "  <tbody>\n",
       "    <tr>\n",
       "      <th>0</th>\n",
       "      <td>1</td>\n",
       "      <td>Wii Sports</td>\n",
       "      <td>Wii</td>\n",
       "      <td>2006.0</td>\n",
       "      <td>Sports</td>\n",
       "      <td>Nintendo</td>\n",
       "      <td>41.49</td>\n",
       "      <td>29.02</td>\n",
       "      <td>3.77</td>\n",
       "      <td>8.46</td>\n",
       "      <td>82.74</td>\n",
       "    </tr>\n",
       "    <tr>\n",
       "      <th>1</th>\n",
       "      <td>2</td>\n",
       "      <td>Super Mario Bros.</td>\n",
       "      <td>NES</td>\n",
       "      <td>1985.0</td>\n",
       "      <td>Platform</td>\n",
       "      <td>Nintendo</td>\n",
       "      <td>29.08</td>\n",
       "      <td>3.58</td>\n",
       "      <td>6.81</td>\n",
       "      <td>0.77</td>\n",
       "      <td>40.24</td>\n",
       "    </tr>\n",
       "    <tr>\n",
       "      <th>2</th>\n",
       "      <td>3</td>\n",
       "      <td>Mario Kart Wii</td>\n",
       "      <td>Wii</td>\n",
       "      <td>2008.0</td>\n",
       "      <td>Racing</td>\n",
       "      <td>Nintendo</td>\n",
       "      <td>15.85</td>\n",
       "      <td>12.88</td>\n",
       "      <td>3.79</td>\n",
       "      <td>3.31</td>\n",
       "      <td>35.82</td>\n",
       "    </tr>\n",
       "    <tr>\n",
       "      <th>3</th>\n",
       "      <td>4</td>\n",
       "      <td>Wii Sports Resort</td>\n",
       "      <td>Wii</td>\n",
       "      <td>2009.0</td>\n",
       "      <td>Sports</td>\n",
       "      <td>Nintendo</td>\n",
       "      <td>15.75</td>\n",
       "      <td>11.01</td>\n",
       "      <td>3.28</td>\n",
       "      <td>2.96</td>\n",
       "      <td>33.00</td>\n",
       "    </tr>\n",
       "    <tr>\n",
       "      <th>4</th>\n",
       "      <td>5</td>\n",
       "      <td>Pokemon Red/Pokemon Blue</td>\n",
       "      <td>GB</td>\n",
       "      <td>1996.0</td>\n",
       "      <td>Role-Playing</td>\n",
       "      <td>Nintendo</td>\n",
       "      <td>11.27</td>\n",
       "      <td>8.89</td>\n",
       "      <td>10.22</td>\n",
       "      <td>1.00</td>\n",
       "      <td>31.37</td>\n",
       "    </tr>\n",
       "  </tbody>\n",
       "</table>\n",
       "</div>"
      ],
      "text/plain": [
       "   Rank                      Name Platform    Year         Genre Publisher  \\\n",
       "0     1                Wii Sports      Wii  2006.0        Sports  Nintendo   \n",
       "1     2         Super Mario Bros.      NES  1985.0      Platform  Nintendo   \n",
       "2     3            Mario Kart Wii      Wii  2008.0        Racing  Nintendo   \n",
       "3     4         Wii Sports Resort      Wii  2009.0        Sports  Nintendo   \n",
       "4     5  Pokemon Red/Pokemon Blue       GB  1996.0  Role-Playing  Nintendo   \n",
       "\n",
       "   NA_Sales  EU_Sales  JP_Sales  Other_Sales  Global_Sales  \n",
       "0     41.49     29.02      3.77         8.46         82.74  \n",
       "1     29.08      3.58      6.81         0.77         40.24  \n",
       "2     15.85     12.88      3.79         3.31         35.82  \n",
       "3     15.75     11.01      3.28         2.96         33.00  \n",
       "4     11.27      8.89     10.22         1.00         31.37  "
      ]
     },
     "execution_count": 73,
     "metadata": {},
     "output_type": "execute_result"
    }
   ],
   "source": [
    "import pandas as pd\n",
    "import numpy as np\n",
    "import os\n",
    "from matplotlib import pyplot as plt\n",
    "import seaborn as sns\n",
    "\n",
    "os.chdir(r'C:\\Users\\фора\\Desktop')\n",
    "data=pd.read_csv(r'vgsales.csv')\n",
    "data.head()\n"
   ]
  },
  {
   "cell_type": "code",
   "execution_count": 53,
   "metadata": {},
   "outputs": [
    {
     "data": {
      "image/png": "[encoded data removed]",
      "text/plain": [
       "<Figure size 1296x864 with 6 Axes>"
      ]
     },
     "metadata": {
      "needs_background": "light"
     },
     "output_type": "display_data"
    }
   ],
   "source": [
    "#1.1\n",
    "\n",
    "vgdata=data[['NA_Sales','JP_Sales','EU_Sales','Other_Sales','Global_Sales']]\n",
    "\n",
    "quantitative = [f for f in vgdata.columns if vgdata.dtypes[f] != 'object']\n",
    "vgdata[quantitative].hist(bins=20, figsize=(18,12))\n",
    "plt.show()\n"
   ]
  },
  {
   "cell_type": "code",
   "execution_count": 77,
   "metadata": {},
   "outputs": [
    {
     "data": {
      "image/png": "[encoded data removed]",
      "text/plain": [
       "<Figure size 432x288 with 1 Axes>"
      ]
     },
     "metadata": {
      "needs_background": "light"
     },
     "output_type": "display_data"
    }
   ],
   "source": [
    "#1.2\n",
    "fig, ax = plt.subplots()\n",
    "ax.set_title('Simple Box plot')\n",
    "ax.boxplot(vgdata[quantitative], vert=False)\n",
    "plt.show()\n"
   ]
  },
  {
   "cell_type": "code",
   "execution_count": 27,
   "metadata": {},
   "outputs": [
    {
     "name": "stdout",
     "output_type": "stream",
     "text": [
      "Average for NA 0.26466742981084057\n",
      "Average for EU 0.1466520062658483\n",
      "Average for JP 0.07778166044101108\n",
      "Average for Other 0.048063019640913515\n"
     ]
    }
   ],
   "source": [
    "#2\n",
    "print('Average for NA',data['NA_Sales'].mean())\n",
    "print('Average for EU',data['EU_Sales'].mean())\n",
    "print('Average for JP',data['JP_Sales'].mean())\n",
    "print('Average for Other',data['Other_Sales'].mean())\n"
   ]
  },
  {
   "cell_type": "code",
   "execution_count": 29,
   "metadata": {},
   "outputs": [
    {
     "name": "stdout",
     "output_type": "stream",
     "text": [
      "Average for NA 0.8166830292990428\n",
      "Average for EU 0.5053512312869366\n",
      "Average for JP 0.30929064808213236\n",
      "Average for Other 0.18858840291278392\n"
     ]
    }
   ],
   "source": [
    "#3\n",
    "print('Average for NA',data['NA_Sales'].std())\n",
    "print('Average for EU',data['EU_Sales'].std())\n",
    "print('Average for JP',data['JP_Sales'].std())\n",
    "print('Average for Other',data['Other_Sales'].std())\n"
   ]
  },
  {
   "cell_type": "code",
   "execution_count": 111,
   "metadata": {},
   "outputs": [
    {
     "data": {
      "text/plain": [
       "1893"
      ]
     },
     "execution_count": 111,
     "metadata": {},
     "output_type": "execute_result"
    }
   ],
   "source": [
    "#4\n",
    "q1, q3= np.percentile((sorted(data['Global_Sales'])),[25,75])\n",
    "iqr = q3 - q1\n",
    "lower_bound = q1 -(1.5 * iqr) \n",
    "upper_bound = q3 +(1.5 * iqr) \n",
    "data_without_outlier_GL=data[(data['Global_Sales']<lower_bound)|(data['Global_Sales']>upper_bound)]\n",
    "len(data_without_outlier_GL)"
   ]
  },
  {
   "cell_type": "code",
   "execution_count": 36,
   "metadata": {},
   "outputs": [
    {
     "name": "stdout",
     "output_type": "stream",
     "text": [
      "Average for Global Sales 0.53744065550074\n",
      "Median for Global Sales 0.17\n",
      "Difference of average and mean 0.36744065550074\n"
     ]
    }
   ],
   "source": [
    "#5\n",
    "print('Average for Global Sales',data['Global_Sales'].mean())\n",
    "print('Median for Global Sales',data['Global_Sales'].median())\n",
    "print('Difference of average and mean',data['Global_Sales'].mean()-data['Global_Sales'].median())"
   ]
  },
  {
   "cell_type": "code",
   "execution_count": 113,
   "metadata": {},
   "outputs": [
    {
     "data": {
      "image/png": "[encoded data removed]",
      "text/plain": [
       "<Figure size 432x288 with 1 Axes>"
      ]
     },
     "metadata": {
      "needs_background": "light"
     },
     "output_type": "display_data"
    }
   ],
   "source": [
    "#6\n",
    "\n",
    "fig, ax = plt.subplots()\n",
    "ax.set_title('Simple Box plot')\n",
    "ax.boxplot(data_without_outlier_GL['Global_Sales'], vert=False)\n",
    "plt.show()"
   ]
  },
  {
   "cell_type": "code",
   "execution_count": 114,
   "metadata": {},
   "outputs": [
    {
     "data": {
      "image/png": "[encoded data removed]",
      "text/plain": [
       "<Figure size 1296x864 with 1 Axes>"
      ]
     },
     "metadata": {
      "needs_background": "light"
     },
     "output_type": "display_data"
    }
   ],
   "source": [
    "data_without_outlier_GL['Global_Sales'].hist(bins=20, figsize=(18,12))\n",
    "plt.show()"
   ]
  },
  {
   "cell_type": "code",
   "execution_count": 115,
   "metadata": {},
   "outputs": [
    {
     "name": "stdout",
     "output_type": "stream",
     "text": [
      "Average for Global Sales 2.9142155309033306\n",
      "Median for Global Sales 1.83\n",
      "Difference of average and mean 1.0842155309033306\n"
     ]
    }
   ],
   "source": [
    "#7\n",
    "print('Average for Global Sales',data_without_outlier_GL['Global_Sales'].mean())\n",
    "print('Median for Global Sales',data_without_outlier_GL['Global_Sales'].median())\n",
    "print('Difference of average and mean',data_without_outlier_GL['Global_Sales'].mean()-data_without_outlier_GL['Global_Sales'].median())"
   ]
  },
  {
   "cell_type": "markdown",
   "metadata": {},
   "source": [
    "# 8. \n",
    "\n",
    "The values for mean and median were changed because we did actually remove outliers that were lying on specific range so they did also were impacting to the result of our calculation.\n",
    "\n",
    "It is obvious that more number we have the smaller amount of mean we have , therefore when we eliminate numbers from dataset amount of mean and median will change as well.\n"
   ]
  },
  {
   "cell_type": "markdown",
   "metadata": {},
   "source": [
    "## Q2 (20%)\n",
    "Suppose that S is a random variable of the AITU graduates salaries in the first year of work, which is assumed to be normally distributed with the population mean µ = 500 thousand KZT and the population standard deviation σ = 80 thousand KZT. \n",
    "\n",
    "**Find the following probabilities:**\n",
    "1. A graduate will have salary below 450 thousand KZT?\n",
    "2. A graduate will have salary below the median salary?\n",
    "3. A graduate will have salary above 660 thousand KZT?\n",
    "4. A graduate will have salary between 400 and 600 thousand KZT?\n",
    "5. In a sample of 25 graduates, what percentage of that students will have salary between 480 and 520 thousand KZT?\n",
    "\n",
    "*Hint: Use SciPy's norm module and write all answers in one cell (using print(command)) for convenience.*"
   ]
  },
  {
   "cell_type": "code",
   "execution_count": 333,
   "metadata": {},
   "outputs": [
    {
     "name": "stdout",
     "output_type": "stream",
     "text": [
      "0.26598552904870054\n",
      "0.5\n",
      "0.022750131948179195\n",
      "0.7887004526662893\n",
      "0.7887004526662893\n"
     ]
    }
   ],
   "source": [
    "from scipy import stats\n",
    "from scipy.stats import norm\n",
    "#2.1\n",
    "print(norm.cdf(x=450,loc=500,scale=80))\n",
    "#2.2\n",
    "print(norm.cdf(x=500,loc=500,scale=80))\n",
    "#2.3\n",
    "print(norm.sf(x=660,loc=500,scale=80))\n",
    "#2.4\n",
    "print(norm.cdf(x=600,loc=500,scale=80)-norm.cdf(x=400,loc=500,scale=80))\n",
    "#2.5\n",
    "print(norm(500, 80/5).cdf(520) - norm(500, 80/5).cdf(480))"
   ]
  },
  {
   "cell_type": "markdown",
   "metadata": {},
   "source": [
    "## Q3 (20%)\n",
    "We have a sample data about GPA for two groups of students (software engineers and big data analytics), which are presented in the lists below. Based on these data, do the following:\n",
    "1. Construct 95% confidence interval for the population mean of software engineer students' GPA. State all the assumptions. \n",
    "2. Is there an evidence that average GPA for this group is larger than 2.9?\n",
    "3. Construct 95% confidence interval for difference between two population means of GPA. State all the assumptions. \n",
    "4. Is there an evidence that one group has higher average GPA than another? If yes, which group performs better?\n",
    "5. How your analysis would change in Task 1, if the sample size was 30? What if 20? Explain.\n",
    "\n",
    "*Note: do not use too many cells for one task. For theoretical question use markdown cells.*"
   ]
  },
  {
   "cell_type": "code",
   "execution_count": 134,
   "metadata": {},
   "outputs": [],
   "source": [
    "gpa_se = [3.54, 3.17, 2.68, 3.08, 3.43, 3.11, 3.33, 2.70, 3.29, 3.94, 3.50, 3.07, 3.05,\n",
    "          3.33, 3.37, 3.25, 2.90, 3.05, 3.55, 2.63, 3.03, 2.94, 2.80, 3.05, 2.91, 3.22,\n",
    "          3.21, 3.09, 3.09, 3.06, 3.29, 3.12, 2.90, 3.42, 3.47, 2.99, 3.35, 2.94, 3.03,\n",
    "          2.71, 3.09, 3.51, 3.73, 2.92, 3.47, 3.14, 3.19, 3.23, 2.35, 3.06, 3.71, 3.44]"
   ]
  },
  {
   "cell_type": "code",
   "execution_count": 135,
   "metadata": {},
   "outputs": [],
   "source": [
    "gpa_bda = [3.16, 3.40, 3.61, 3.37, 3.24, 3.40, 3.00, 2.78, 3.22, 3.43, 3.32, 3.58,\n",
    "           3.46, 3.45, 3.52, 3.13, 3.13, 3.81, 3.22, 3.65, 2.65, 3.51, 3.94, 3.86,\n",
    "           3.30, 3.31, 3.45, 3.17, 3.57, 3.90, 3.54, 3.41, 3.39, 3.99, 3.24, 3.50,\n",
    "           3.44, 3.55, 3.40, 3.17, 3.18, 3.67, 3.64, 3.29, 3.32, 3.19, 2.71, 3.79,\n",
    "           3.12, 3.32, 3.17, 3.38, 3.76, 3.19, 3.47, 3.41, 3.01, 3.47, 2.72, 3.16]"
   ]
  },
  {
   "cell_type": "markdown",
   "metadata": {},
   "source": [
    "**First of all calculated x_bar variable for average of se group.**\n",
    "\n",
    "**Then we found standard deviation for sigma .**\n",
    "\n",
    "**Then calculated standard error by division of sigma and square root of number of items.**\n",
    "\n",
    "**Consequently , place them in norm.interval with 95% confidence interval.**"
   ]
  },
  {
   "cell_type": "code",
   "execution_count": 151,
   "metadata": {},
   "outputs": [
    {
     "name": "stdout",
     "output_type": "stream",
     "text": [
      "Lower bound: 3.0814\n",
      "Upper bound: 3.2429\n"
     ]
    }
   ],
   "source": [
    "#1\n",
    "import scipy.stats as st \n",
    "from scipy.stats import t\n",
    "x_bar = np.mean(gpa_se)\n",
    "sigma = np.std(gpa_se) # to compute sample std, we need df=1 \n",
    "n = len(gpa_se)\n",
    "std_error = sigma/np.sqrt(n) #sigma/np.sqrt(n)\n",
    "se_interval=norm.interval(alpha=0.95 , loc=x_bar, scale=std_error)\n",
    "print('Lower bound:', round(se_interval[0], 4))\n",
    "print('Upper bound:', round(se_interval[1], 4))"
   ]
  },
  {
   "cell_type": "markdown",
   "metadata": {},
   "source": [
    "**Based on the following number of average we can say that GPA for this group is larger than 2.9. So , this is the evidence .**"
   ]
  },
  {
   "cell_type": "code",
   "execution_count": 318,
   "metadata": {},
   "outputs": [
    {
     "data": {
      "text/plain": [
       "3.162115384615385"
      ]
     },
     "execution_count": 318,
     "metadata": {},
     "output_type": "execute_result"
    }
   ],
   "source": [
    "#2\n",
    "np.mean(gpa_se)"
   ]
  },
  {
   "cell_type": "code",
   "execution_count": 334,
   "metadata": {},
   "outputs": [
    {
     "name": "stdout",
     "output_type": "stream",
     "text": [
      "Lower bound: 0.09854\n",
      "Upper bound: 0.31523\n"
     ]
    }
   ],
   "source": [
    "#3\n",
    "mean_diff=np.mean(gpa_bda)-np.mean(gpa_se)\n",
    "\n",
    "\n",
    "std_se=np.std(gpa_se)\n",
    "std_bda=np.std(gpa_bda)\n",
    "\n",
    "std_error_diff = np.sqrt((std_se*std_se)/len(gpa_se) + (std_bda*std_bda)/len(gpa_bda))\n",
    "\n",
    "\n",
    "ci_95_diff = norm.interval(alpha=0.95, loc=mean_diff, scale=std_error_diff)\n",
    "print('Lower bound:', round(ci_95_diff[0], 5))\n",
    "print('Upper bound:', round(ci_95_diff[1], 5))\n"
   ]
  },
  {
   "cell_type": "markdown",
   "metadata": {},
   "source": [
    "**First of all calculated mean_diff variable for difference of average between two groups .**\n",
    "\n",
    "**Then we found standard deviation for both of them .**\n",
    "\n",
    "**Then calculated standard error difference with adding two values .**\n",
    "\n",
    "**Consequently , place them in norm.interval with 95% confidence interval.**"
   ]
  },
  {
   "cell_type": "markdown",
   "metadata": {},
   "source": [
    "# 4.\n",
    "\n",
    "**By the following result below we can observe that gpa mean for bda students is more higher than se group , so bda group are doing well by the result.**"
   ]
  },
  {
   "cell_type": "code",
   "execution_count": 327,
   "metadata": {},
   "outputs": [
    {
     "name": "stdout",
     "output_type": "stream",
     "text": [
      "52\n",
      "60\n",
      "Median for se group : 3.115\n",
      "Median for bda group : 3.395\n",
      "Mean for se group : 3.162115384615385\n",
      "Mean for bda group : 3.3689999999999998\n"
     ]
    }
   ],
   "source": [
    "print(len(gpa_se))\n",
    "print(len(gpa_bda))\n",
    "\n",
    "print('Median for se group :',np.median(gpa_se))\n",
    "print('Median for bda group :',np.median(gpa_bda))\n",
    "\n",
    "print('Mean for se group :',np.mean(gpa_se))\n",
    "print('Mean for bda group :',np.mean(gpa_bda))"
   ]
  },
  {
   "cell_type": "markdown",
   "metadata": {},
   "source": [
    "# 5\n",
    "\n",
    "As you can see size of both two groups more than 30 students , so we did use normal distribution . But, in case when we have sample size smaller or equal to 30 , we could use T interval.\n",
    "\n",
    "**T interval is good for situations where the sample size is small and population standard deviation is unknown. When the sample size comes to be very small (n≤30), the Z-interval for calculating confidence interval becomes less reliable estimate. And here the T-interval comes into place.**\n",
    "\n",
    "However , if we had result equal to 20 our calcluations will be more clear regarding lower and upper bound and be more reliable as well."
   ]
  },
  {
   "cell_type": "code",
   "execution_count": 331,
   "metadata": {},
   "outputs": [
    {
     "name": "stdout",
     "output_type": "stream",
     "text": [
      "Lower bound using T interval: 3.046\n",
      "Upper bound using T interval: 3.351\n",
      "Lower bound using normal dist: 3.0591\n",
      "Upper bound using normal dist: 3.3379\n"
     ]
    }
   ],
   "source": [
    "gpa_cs = [3.54, 3.17, 2.68, 3.08, 3.43, 3.11, 3.33, 2.70, 3.29, 3.94, 3.50, 3.07, 3.05,\n",
    "          3.33, 3.37, 3.25, 2.90, 3.05, 3.55, 2.63]\n",
    "\n",
    "\n",
    "ci_95_t = t.interval(alpha=0.95, df=len(gpa_cs)-1, loc=np.mean(gpa_cs), scale=st.sem(gpa_cs))\n",
    "print('Lower bound using T interval:', round(ci_95_t[0], 3))\n",
    "print('Upper bound using T interval:', round(ci_95_t[1], 3))\n",
    "\n",
    "\n",
    "x_bar = np.mean(gpa_cs)\n",
    "sigma = np.std(gpa_cs) # to compute sample std, we need df=1 \n",
    "n = len(gpa_cs)\n",
    "std_error = sigma/np.sqrt(n) #sigma/np.sqrt(n)\n",
    "cs_interval=norm.interval(alpha=0.95 , loc=x_bar, scale=std_error)\n",
    "print('Lower bound using normal dist:', round(cs_interval[0], 4))\n",
    "print('Upper bound using normal dist:', round(cs_interval[1], 4))"
   ]
  },
  {
   "attachments": {
    "image.png": {
     "image/png": "[encoded data removed]"
    }
   },
   "cell_type": "markdown",
   "metadata": {},
   "source": [
    "In this example for the sake of exploratory purposes I tried to show difference of result using normal distribution and T interval . So by the result we can see that sample that I created 'gpa_cs' has 20 items . So then, we can apply T interval here . As the result shows , it can be revealed that T interval method is lower than normal distribution , consequently this method more accurate in calculations .\n",
    "\n",
    "**Therefore , those are the results of having sample less than 30.**![image.png](attachment:image.png)"
   ]
  },
  {
   "cell_type": "markdown",
   "metadata": {},
   "source": [
    "## Q4 (10%)\n",
    "Consider the set of data below (my_list). Does it appear to approximately follow a normal distribution? Justify your answer.\n",
    "\n",
    "*Hint: Check for the properties of the Normal distribution and for the graph of distribtuion.*"
   ]
  },
  {
   "cell_type": "code",
   "execution_count": 192,
   "metadata": {},
   "outputs": [],
   "source": [
    "my_list = [113, 71, 89, 143, 140, 146, 122, 104, 134, 143, 110, 131, 125, 116, \n",
    "           164, 107, 113, 122, 119, 116, 98, 161, 128, 152, 116, 83, 86, 155,\n",
    "           128, 122, 95, 122, 131, 134, 107, 113, 101, 92, 134, 140]"
   ]
  },
  {
   "cell_type": "code",
   "execution_count": 298,
   "metadata": {},
   "outputs": [
    {
     "data": {
      "image/png": "[encoded data removed]",
      "text/plain": [
       "<Figure size 432x288 with 1 Axes>"
      ]
     },
     "metadata": {
      "needs_background": "light"
     },
     "output_type": "display_data"
    }
   ],
   "source": [
    "\n",
    "mu, sigma = np.mean(my_list), np.std(my_list)\n",
    "plt.hist(x=my_list);"
   ]
  },
  {
   "cell_type": "markdown",
   "metadata": {},
   "source": [
    "The normal distribution chart is characterized by two parameters: \n",
    "\n",
    "1)The average value, which represents the maximum value of the chart, and the chart is always symmetrical. \n",
    "\n",
    "2)And the standard deviation, which determines the amount of change beyond the mean. Smaller standard deviations (compared to the mean) appear steeper, while larger standard deviations (compared to the mean) appear flat."
   ]
  },
  {
   "cell_type": "code",
   "execution_count": 297,
   "metadata": {},
   "outputs": [
    {
     "data": {
      "image/png": "[encoded data removed]",
      "text/plain": [
       "<Figure size 432x288 with 1 Axes>"
      ]
     },
     "metadata": {
      "needs_background": "light"
     },
     "output_type": "display_data"
    },
    {
     "name": "stdout",
     "output_type": "stream",
     "text": [
      "Mean is equal to  120.65\n",
      "Mode is equal to  122\n",
      "Median is equal to  122.0\n"
     ]
    }
   ],
   "source": [
    "import numpy as np\n",
    "import matplotlib.pyplot as plt\n",
    "from scipy.stats import norm\n",
    "import statistics\n",
    "    \n",
    "\n",
    "my_list1=sorted(my_list)\n",
    "# Calculating mean and standard \n",
    "# deviation\n",
    "mean = statistics.mean(my_list1)\n",
    "sd = statistics.stdev(my_list1)\n",
    "median = statistics.median(my_list1)\n",
    "mode= statistics.mode(my_list1)\n",
    "plt.plot(my_list1, norm.pdf(my_list1, mean, sd))\n",
    "plt.show()\n",
    "\n",
    "print('Mean is equal to ' ,mean)\n",
    "print('Mode is equal to ' ,mode)\n",
    "print('Median is equal to ' ,median)"
   ]
  },
  {
   "attachments": {
    "image.png": {
     "image/png": "[encoded data removed]"
    }
   },
   "cell_type": "markdown",
   "metadata": {},
   "source": [
    "# Conclusion\n",
    "\n",
    "### By observation that I did regarding this data and its statistical values , we can conclude that it's not normally distributed. Why ?\n",
    "\n",
    "Because , one of the requiremenets to be normally distributed values like mode , median and mean should be equal to each other . But we can say that they are not perfectly equal to each other .![image.png](attachment:image.png)\n",
    "\n",
    "1)Yeah , our data is bell-shaped but not every bell-shaped curve can be normal distribution.\n",
    "\n",
    "\n",
    "2)We have slight difference between mean and mode and data are not perfectly symmetric (etc); it's the fact that populations are themselves not perfectly normal.\n",
    "\n",
    "\n",
    "\n",
    "**So , by my opinion it is not normal distribution . Even If I get wrong , I tried prove my point of view and I hope it will be correct.**"
   ]
  },
  {
   "cell_type": "markdown",
   "metadata": {},
   "source": [
    "## Q5 (10%)\n",
    "Generate synthetic data (numpy.random.normal) with mean = 70, std = 12 and size = 1000 (round it to nearest integer). \n",
    "\n",
    "__Tasks to do:__\n",
    "1. Plot histogram\n",
    "2. What is the mean, median and mode\n",
    "3. Build function to calculate standard deviation using standard Python functionality\n",
    "4. Calculate std. using your function and compare it with numpy function"
   ]
  },
  {
   "cell_type": "code",
   "execution_count": 312,
   "metadata": {},
   "outputs": [
    {
     "data": {
      "image/png": "[encoded data removed]",
      "text/plain": [
       "<Figure size 432x288 with 1 Axes>"
      ]
     },
     "metadata": {
      "needs_background": "light"
     },
     "output_type": "display_data"
    }
   ],
   "source": [
    "#1\n",
    "n = 1000\n",
    "mu, sigma = 70, 12\n",
    "s = np.random.normal(mu, sigma, n)\n",
    "plt.hist(x=s, bins=20, density=True);\n",
    "\n"
   ]
  },
  {
   "cell_type": "code",
   "execution_count": 313,
   "metadata": {},
   "outputs": [
    {
     "name": "stdout",
     "output_type": "stream",
     "text": [
      "Mean is equal to  70.50909120434198\n",
      "Mode is equal to  63.26823184824257\n",
      "Median is equal to  70.27535778098151\n"
     ]
    }
   ],
   "source": [
    "#2 \n",
    "mean_of_s = statistics.mean(s)\n",
    "median_of_s = statistics.median(s)\n",
    "mode_of_s= statistics.mode(s)\n",
    "\n",
    "print('Mean is equal to ' ,mean_of_s)\n",
    "print('Mode is equal to ' ,mode_of_s)\n",
    "print('Median is equal to ' ,median_of_s)"
   ]
  },
  {
   "cell_type": "code",
   "execution_count": 256,
   "metadata": {},
   "outputs": [
    {
     "data": {
      "text/plain": [
       "11.684398543067081"
      ]
     },
     "execution_count": 256,
     "metadata": {},
     "output_type": "execute_result"
    }
   ],
   "source": [
    "#3\n",
    "import math\n",
    "\n",
    "def func(s):\n",
    "    mean = sum(s) / len(s)   # mean\n",
    "    var  = sum(pow(x-mean,2) for x in s) / len(s)  # variance\n",
    "    std  = math.sqrt(var)  # standard deviation\n",
    "    return std\n",
    "\n",
    "func(s)\n"
   ]
  },
  {
   "cell_type": "code",
   "execution_count": 314,
   "metadata": {},
   "outputs": [
    {
     "name": "stdout",
     "output_type": "stream",
     "text": [
      "Standard deviation using numpy library 11.846176670465576\n",
      "Standard deviation using my own method 11.84617667046558\n"
     ]
    }
   ],
   "source": [
    "#4\n",
    "print('Standard deviation using numpy library' , np.std(s))\n",
    "print('Standard deviation using my own method' ,func(s))"
   ]
  },
  {
   "cell_type": "markdown",
   "metadata": {},
   "source": [
    "## Q6 (10%)\n",
    "Prove the following expression:\n",
    "\n",
    "$$Var(X) = E((X-\\mu)^2) = E(X^2) - (E(X))^2$$\n",
    "\n",
    "\n",
    "\n",
    "*Hint: For proof write it down in markdown cell below using LaTex.*"
   ]
  },
  {
   "cell_type": "markdown",
   "metadata": {},
   "source": [
    "\n",
    "\n",
    "$$ Var(X)=E[(X−μ)2] $$ \n",
    "\n",
    "$$ Var(X)=E[(X−E[X])2] $$\n",
    "\n",
    "$$ Var(X)=E[(X−E[X])(X−E[X])] $$\n",
    "\n",
    "$$ Var(X)=E[X2−2XE[X]+(E[X])2] $$\n",
    "\n",
    "$$ Var(X)=E[X2]−2E[XE[X]]+E[(E[X])2] $$\n",
    "\n",
    "$$ Var(X)=E[X2]−2E[E[X]E[X]]+E[(E[X])2] $$\n",
    "\n",
    "$$ Var(X)=E[X2]−2(E[X])2+(E[X])2 $$\n",
    "\n",
    "$$ Var(X)=E[X2]−(E[X])2 $$\n",
    "\n"
   ]
  },
  {
   "cell_type": "markdown",
   "metadata": {},
   "source": [
    "## Q7 (10%)\n",
    "For each of the cases of confidence intervals in the lecture (3 simple and 5 complicated) find/create an example and mention corresponding assumptions such as sample size or original distribution or variance. Also, note that you should not use examples that was presented during the lecture. \n",
    "\n",
    "*Note: no need to create a problem, just a situation which will correspond to the confidence interval case.*"
   ]
  },
  {
   "cell_type": "markdown",
   "metadata": {},
   "source": [
    "There are range of hypothesis tests exists. Below you can see some of them that we will cover: \n",
    "1. Hypothesis test for a single mean (σ known)\n",
    "2. Hypothesis test for a single mean (σ unknown)\n",
    "3. Hypothesis test for a single proportion\n",
    "\n",
    "\n",
    "More advanced cases: \n",
    "\n",
    "4. Difference between two population proportions\n",
    "5. Difference between two population means: Unpaired samples – variances known\n",
    "6. Difference between two population means: Unpaired samples – variances unknown and unequal\n",
    "7. Difference between two population means: Unpaired samples – variances unknown and equal\n",
    "8. Difference between two population means: Paired (dependent) samples"
   ]
  },
  {
   "cell_type": "markdown",
   "metadata": {},
   "source": [
    "1)\n",
    "\n",
    "**Hypothesis test for a single mean (σ known)**\n",
    "\n",
    "Let's imagine grocery company want to test their new method , and their release it brand new way for them , so they do not know will it affect to other products by its consistency(flavour,taste) or it will still be the same even after insisting new approach of production(at first they do 300) .\n",
    "\n",
    "H0: μafter = μbefore (the mean number of products is the same before and after using the new method)\n",
    "\n",
    "\n",
    "HA: μafter ≠ μbefore (the mean number of defective products is different before and after using the new method)\n",
    "\n",
    "2)\n",
    "\n",
    "**Hypothesis test for a single mean (σ unknown)**\n",
    "\n",
    "\n",
    "Some person bought ready business(sneaker's shop) and want to know what are the estimations regarding average price of sneakers sale , so random sample of 20 sneakers brands have following prices :\n",
    "\n",
    "sneakers = [44, 36.00, 43.50, 29.50, 44.50, 47.50, 45.50, 53.00, 40.00, 38.00, 33.00, 54.50,44, 36.00, 43.50, 29.50, 44.50, 47.50, 45.50, 53.00, 40.00, 38.00,]\n",
    "\n",
    "3)\n",
    "\n",
    "We can use **single proportion** if we want to make decision regarding business(refer to 2 task) . For example , let's imagine we did poll in our instagram , what our customers want more Adidas sneakers or Nike sneakers . So , let's say 20 out of 30 responded nike , so p=20/30=0.6 . We can do t interval around this number.\n",
    "\n",
    "4) \n",
    "\n",
    "**Difference between two population proportions** \n",
    "\n",
    "Males and females were asked about what they would do if they received a $100 bill by mail, addressed to their neighbor, but wrongly delivered to them. Would they return it to their neighbor? Of the 69 males sampled, 52 said \"yes\" and of the 131 females sampled, 120 said \"yes.\"\n",
    "\n",
    "Does the data indicate that the proportions that said \"yes\" are different for male and female? How do we begin to answer this question?\n",
    "\n",
    "If the proportion of males who said “yes, they would return it” is denoted as  and the proportion of females who said “yes, they would return it” is denoted as , then the following equations indicate that  is equal to .\n",
    "\n",
    "\n",
    "5)\n",
    "\n",
    "**Difference between two population means: Unpaired samples – variances known**\n",
    "\n",
    "Two colleges have to determine which one graduates students with more math classes. College A samples 21 graduates. Their average is four math classes with a standard deviation of 1.5 math classes. College B samples 12 graduates. Their average is 3.5 math classes with a standard deviation of one math class. The community group believes that a student who graduates from college A has taken more math classes, on the average. Both populations have a normal distribution. \n",
    "\n",
    "\n",
    "6)\n",
    "\n",
    "**Difference between two population means: Unpaired samples – variances unknown and unequal** in medicine or observations.\n",
    "\n",
    "We want to test one drug on our plant or patient . So , efficiency of this drug we can expect after 30 days of using drug and previous result . Also , with number of days , we're given data how many patients were tested on this drug along with their standard deviation.\n",
    "\n",
    "\n",
    "7)\n",
    "\n",
    "**Difference between two population means: Unpaired samples – variances unknown and equal**\n",
    "\n",
    "We have two lines of computers. We want to know their efficiency and test if their speed of operations are same or no in order to choose better for ourselves.\n",
    "\n",
    "$H_0 : \\mu_1 = \\mu_2$ vs. $H_0 : \\mu_1 \\neq \\mu_2$\n",
    "\n",
    "8)\n",
    "\n",
    "**Difference between two population means: Paired (dependent) samples**\n",
    "\n",
    "Football coach of Chelsea football club wants to test first 11 players of the squad if the new types of trainings will give better result in their speed . So , he did wrote up speed list of 11 players after and before training.\n",
    "\n",
    "we define  𝜇𝑑=𝜇1−𝜇2  since we hope that trainings will be more efficient than it was before."
   ]
  }
 ],
 "metadata": {
  "kernelspec": {
   "display_name": "Python 3",
   "language": "python",
   "name": "python3"
  },
  "language_info": {
   "codemirror_mode": {
    "name": "ipython",
    "version": 3
   },
   "file_extension": ".py",
   "mimetype": "text/x-python",
   "name": "python",
   "nbconvert_exporter": "python",
   "pygments_lexer": "ipython3",
   "version": "3.8.5"
  }
 },
 "nbformat": 4,
 "nbformat_minor": 4
}
